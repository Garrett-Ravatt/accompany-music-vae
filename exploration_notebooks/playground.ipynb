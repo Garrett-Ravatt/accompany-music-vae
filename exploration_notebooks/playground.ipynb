{
 "cells": [
  {
   "cell_type": "code",
   "execution_count": null,
   "metadata": {
    "scrolled": true
   },
   "outputs": [],
   "source": [
    "import numpy as np\n",
    "import tensorflow as tf\n",
    "\n",
    "import magenta.music as mm\n",
    "from magenta.models.music_vae import configs\n",
    "from magenta.models.music_vae.trained_model import TrainedModel"
   ]
  },
  {
   "cell_type": "code",
   "execution_count": null,
   "metadata": {
    "scrolled": true
   },
   "outputs": [],
   "source": [
    "model_name_melody_2bar  = 'cat-mel_2bar_big'\n",
    "model_name_melody_16bar = 'hierdec-mel_16bar'\n",
    "model_name_trio_16bar   = 'hierdec-trio_16bar'\n",
    "\n",
    "model_name = model_name_trio_16bar\n",
    "config = configs.CONFIG_MAP[model_name]\n",
    "\n",
    "model = TrainedModel(config,\n",
    "                     batch_size=16,\n",
    "                     checkpoint_dir_or_path='./models/pretrained/{}.ckpt'.format(model_name))"
   ]
  },
  {
   "cell_type": "code",
   "execution_count": null,
   "metadata": {},
   "outputs": [],
   "source": [
    "config.data_converter"
   ]
  },
  {
   "cell_type": "code",
   "execution_count": null,
   "metadata": {},
   "outputs": [],
   "source": []
  },
  {
   "cell_type": "code",
   "execution_count": null,
   "metadata": {
    "scrolled": true
   },
   "outputs": [],
   "source": [
    "from magenta.protobuf import music_pb2\n",
    "\n",
    "twinkle_twinkle = music_pb2.NoteSequence()\n",
    "\n",
    "# Add the notes to the sequence.\n",
    "twinkle_twinkle.notes.add(pitch=60, start_time=0.0, end_time=0.5, velocity=80)\n",
    "twinkle_twinkle.notes.add(pitch=60, start_time=0.5, end_time=1.0, velocity=80)\n",
    "twinkle_twinkle.notes.add(pitch=67, start_time=1.0, end_time=1.5, velocity=80)\n",
    "twinkle_twinkle.notes.add(pitch=67, start_time=1.5, end_time=2.0, velocity=80)\n",
    "twinkle_twinkle.notes.add(pitch=69, start_time=2.0, end_time=2.5, velocity=80)\n",
    "twinkle_twinkle.notes.add(pitch=69, start_time=2.5, end_time=3.0, velocity=80)\n",
    "twinkle_twinkle.notes.add(pitch=67, start_time=3.0, end_time=4.0, velocity=80)\n",
    "twinkle_twinkle.notes.add(pitch=65, start_time=4.0, end_time=4.5, velocity=80)\n",
    "twinkle_twinkle.notes.add(pitch=65, start_time=4.5, end_time=5.0, velocity=80)\n",
    "twinkle_twinkle.notes.add(pitch=64, start_time=5.0, end_time=5.5, velocity=80)\n",
    "twinkle_twinkle.notes.add(pitch=64, start_time=5.5, end_time=6.0, velocity=80)\n",
    "twinkle_twinkle.notes.add(pitch=62, start_time=6.0, end_time=6.5, velocity=80)\n",
    "twinkle_twinkle.notes.add(pitch=62, start_time=6.5, end_time=7.0, velocity=80)\n",
    "twinkle_twinkle.notes.add(pitch=60, start_time=7.0, end_time=8.0, velocity=80) \n",
    "\n",
    "twinkle_twinkle.total_time = 128\n",
    "\n",
    "twinkle_twinkle.tempos.add(qpm=60);\n",
    "\n",
    "mm.plot_sequence(twinkle_twinkle)\n",
    "mm.play_sequence(twinkle_twinkle, synth=mm.fluidsynth)"
   ]
  },
  {
   "cell_type": "code",
   "execution_count": null,
   "metadata": {},
   "outputs": [],
   "source": [
    "tones = music_pb2.NoteSequence()\n",
    "\n",
    "tot = 64\n",
    "\n",
    "for i in range(tot):\n",
    "    tones.notes.add(pitch=60, start_time=i, end_time=i + 0.9, velocity=80)\n",
    "\n",
    "tones.total_time = tot\n",
    "\n",
    "tones.tempos.add(qpm=60);\n",
    "\n",
    "mm.plot_sequence(tones)\n",
    "mm.play_sequence(tones)"
   ]
  },
  {
   "cell_type": "code",
   "execution_count": null,
   "metadata": {
    "scrolled": true
   },
   "outputs": [],
   "source": [
    "with open('./data/lmd_clean/The Beatles/Help!.2.mid', 'rb') as midi_file:\n",
    "    song_seq = mm.midi_to_sequence_proto(midi_file.read())\n",
    "    \n",
    "mm.plot_sequence(song_seq)\n",
    "mm.play_sequence(song_seq, synth=mm.fluidsynth)"
   ]
  },
  {
   "cell_type": "code",
   "execution_count": null,
   "metadata": {},
   "outputs": [],
   "source": [
    "song_seq"
   ]
  },
  {
   "cell_type": "code",
   "execution_count": null,
   "metadata": {},
   "outputs": [],
   "source": [
    "tensors = config.data_converter.to_tensors(song_seq)\n",
    "tensors"
   ]
  },
  {
   "cell_type": "code",
   "execution_count": null,
   "metadata": {},
   "outputs": [],
   "source": [
    "config.data_converter"
   ]
  },
  {
   "cell_type": "code",
   "execution_count": null,
   "metadata": {},
   "outputs": [],
   "source": [
    "tensors[0][0]"
   ]
  },
  {
   "cell_type": "code",
   "execution_count": null,
   "metadata": {},
   "outputs": [],
   "source": [
    "extracted_trios = \\\n",
    "      config.data_converter.to_notesequences(\n",
    "          config.data_converter.to_tensors(song_seq)[1])"
   ]
  },
  {
   "cell_type": "code",
   "execution_count": null,
   "metadata": {},
   "outputs": [],
   "source": [
    "sample = extracted_trios[0]\n",
    "\n",
    "melody_only = music_pb2.NoteSequence()\n",
    "melody_only.ticks_per_quarter = sample.ticks_per_quarter\n",
    "melody_only.tempos.add(qpm=sample.tempos[0].qpm)\n",
    "melody_only.total_time = sample.total_time\n",
    "\n",
    "from copy import deepcopy\n",
    "sample2 = deepcopy(sample)\n",
    "\n",
    "new_notes = list(filter(lambda note: not note.instrument, sample.notes[:]))\n",
    "# sample.notes[:] = new_notes\n",
    "del sample2.notes[:]\n",
    "# for note in new_notes:\n",
    "sample2.notes.extend(new_notes)\n",
    "# for note in sample.notes:\n",
    "#     if note.instrument == 0:\n",
    "# #         melody_only.notes.extend([note])"
   ]
  },
  {
   "cell_type": "code",
   "execution_count": null,
   "metadata": {},
   "outputs": [],
   "source": [
    "mm.plot_sequence(sample)\n",
    "mm.play_sequence(sample, synth=mm.fluidsynth)"
   ]
  },
  {
   "cell_type": "code",
   "execution_count": null,
   "metadata": {},
   "outputs": [],
   "source": [
    "mm.plot_sequence(sample2)\n",
    "mm.play_sequence(sample2, synth=mm.fluidsynth)"
   ]
  },
  {
   "cell_type": "code",
   "execution_count": null,
   "metadata": {},
   "outputs": [],
   "source": [
    "mm.plot_sequence(melody_only)\n",
    "mm.play_sequence(melody_only, synth=mm.fluidsynth)"
   ]
  },
  {
   "cell_type": "code",
   "execution_count": null,
   "metadata": {},
   "outputs": [],
   "source": [
    "help(model)"
   ]
  },
  {
   "cell_type": "code",
   "execution_count": null,
   "metadata": {},
   "outputs": [],
   "source": [
    "# inp_tensors = model._config.data_converter.to_tensors(song_seq)\n",
    "# inp_tensors.inputs\n",
    "config.data_converter._gap_bars = 999\n",
    "config.data_converter._to_tensors(melody_only)"
   ]
  },
  {
   "cell_type": "code",
   "execution_count": null,
   "metadata": {},
   "outputs": [],
   "source": [
    "len(extracted_trios[0].notes)"
   ]
  },
  {
   "cell_type": "code",
   "execution_count": null,
   "metadata": {},
   "outputs": [],
   "source": [
    "config"
   ]
  },
  {
   "cell_type": "code",
   "execution_count": null,
   "metadata": {},
   "outputs": [],
   "source": [
    "mm.plot_sequence(extracted_trios[0])\n",
    "mm.play_sequence(extracted_trios[0], synth=mm.fluidsynth)"
   ]
  },
  {
   "cell_type": "code",
   "execution_count": null,
   "metadata": {},
   "outputs": [],
   "source": [
    "song_seq.total_time"
   ]
  },
  {
   "cell_type": "code",
   "execution_count": null,
   "metadata": {},
   "outputs": [],
   "source": [
    "melody_only = copy()"
   ]
  },
  {
   "cell_type": "code",
   "execution_count": null,
   "metadata": {},
   "outputs": [],
   "source": [
    "z, mu, sigma = model.encode([extracted_trios[0]])\n",
    "# z, mu, sigma = model.encode_tensors([inp_tensors[0]], lengths=64)\n",
    "# z, mu, sigma = model.encode([melody_only])\n",
    "\n",
    "z = z[0]\n",
    "mu = mu[0]\n",
    "sigma = sigma[0]"
   ]
  },
  {
   "cell_type": "code",
   "execution_count": null,
   "metadata": {},
   "outputs": [],
   "source": [
    "z.shape"
   ]
  },
  {
   "cell_type": "code",
   "execution_count": null,
   "metadata": {},
   "outputs": [],
   "source": [
    "z.shape"
   ]
  },
  {
   "cell_type": "code",
   "execution_count": null,
   "metadata": {},
   "outputs": [],
   "source": [
    "out_seq = model.decode([z], length=64)[0]\n",
    "mm.plot_sequence(out_seq)\n",
    "mm.play_sequence(out_seq, synth=mm.fluidsynth)"
   ]
  },
  {
   "cell_type": "code",
   "execution_count": null,
   "metadata": {},
   "outputs": [],
   "source": [
    "out_seq.total_time"
   ]
  },
  {
   "cell_type": "code",
   "execution_count": null,
   "metadata": {},
   "outputs": [],
   "source": []
  }
 ],
 "metadata": {
  "kernelspec": {
   "display_name": "Python 3",
   "language": "python",
   "name": "python3"
  },
  "language_info": {
   "codemirror_mode": {
    "name": "ipython",
    "version": 3
   },
   "file_extension": ".py",
   "mimetype": "text/x-python",
   "name": "python",
   "nbconvert_exporter": "python",
   "pygments_lexer": "ipython3",
   "version": "3.6.6"
  }
 },
 "nbformat": 4,
 "nbformat_minor": 2
}
