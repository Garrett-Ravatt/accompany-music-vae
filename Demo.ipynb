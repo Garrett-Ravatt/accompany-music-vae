{
 "cells": [
  {
   "cell_type": "code",
   "execution_count": null,
   "metadata": {},
   "outputs": [],
   "source": [
    "import model\n",
    "import inference\n",
    "import magenta.music as mm\n",
    "\n",
    "%load_ext autoreload\n",
    "%autoreload 2"
   ]
  },
  {
   "cell_type": "markdown",
   "metadata": {},
   "source": [
    "# Load the Model"
   ]
  },
  {
   "cell_type": "code",
   "execution_count": null,
   "metadata": {},
   "outputs": [],
   "source": [
    "# Load the model from a previous checkpoint\n",
    "surrogate_encoder = model.get_model(initial_weights='models/checkpoints/bi_rnn_test/03-0.1935.hdf5')"
   ]
  },
  {
   "cell_type": "markdown",
   "metadata": {},
   "source": [
    "# Generate Accompaniment"
   ]
  },
  {
   "cell_type": "code",
   "execution_count": null,
   "metadata": {},
   "outputs": [],
   "source": [
    "# Choose your songs from the lmd_clean directory\n",
    "song_names = ['Black Sabbath/Iron Man',\n",
    "#               'Van Halen/Jump',\n",
    "#               'Iron Maiden/Fear of the Dark',\n",
    "#               'Jimi Hendrix/Purple Haze',\n",
    "#               'Michael Jackson/Smooth Criminal',\n",
    "#               'Michael Jackson/Thriller',\n",
    "              'Michael Jackson/Beat It']\n",
    "song_paths = ['data/lmd_clean/' + song + '.mid' for song in song_names]"
   ]
  },
  {
   "cell_type": "code",
   "execution_count": null,
   "metadata": {},
   "outputs": [],
   "source": [
    "# Take their melodies, and add our own accompaniment\n",
    "generated_music = inference.generate_accompaniments(song_paths, surrogate_encoder, remove_controls=True)"
   ]
  },
  {
   "cell_type": "markdown",
   "metadata": {},
   "source": [
    "# Play the Music"
   ]
  },
  {
   "cell_type": "code",
   "execution_count": null,
   "metadata": {},
   "outputs": [],
   "source": [
    "# Load the original songs, for comparison:\n",
    "original_songs = []\n",
    "for song_path in song_paths:\n",
    "    with open(song_path, 'rb') as midi_file:\n",
    "        midi = midi_file.read()\n",
    "        original_songs.append(mm.midi_to_sequence_proto(midi))"
   ]
  },
  {
   "cell_type": "code",
   "execution_count": null,
   "metadata": {},
   "outputs": [],
   "source": [
    "# Play every song\n",
    "for (orig_song, new_song, song_name) in zip(original_songs, generated_music, song_names):\n",
    "    print(\"Next song: {}\".format(song_name))\n",
    "    \n",
    "    print(\"Original:\")\n",
    "    mm.plot_sequence(orig_song)\n",
    "    mm.play_sequence(orig_song, synth=mm.fluidsynth)\n",
    "    \n",
    "    print(\"Generated:\")\n",
    "    mm.plot_sequence(new_song)\n",
    "    mm.play_sequence(new_song, synth=mm.fluidsynth)"
   ]
  },
  {
   "cell_type": "code",
   "execution_count": null,
   "metadata": {},
   "outputs": [],
   "source": [
    "# Play a select song\n",
    "song_index = 0 # Iron Man\n",
    "\n",
    "orig_song = original_songs[song_index]\n",
    "new_song  = generated_music[song_index]\n",
    "\n",
    "print(\"Original:\")\n",
    "mm.plot_sequence(orig_song)\n",
    "mm.play_sequence(orig_song, synth=mm.fluidsynth)\n",
    "\n",
    "print(\"Generated:\")\n",
    "mm.plot_sequence(new_song)\n",
    "mm.play_sequence(new_song, synth=mm.fluidsynth)"
   ]
  },
  {
   "cell_type": "code",
   "execution_count": null,
   "metadata": {},
   "outputs": [],
   "source": []
  }
 ],
 "metadata": {
  "kernelspec": {
   "display_name": "Python 3",
   "language": "python",
   "name": "python3"
  },
  "language_info": {
   "codemirror_mode": {
    "name": "ipython",
    "version": 3
   },
   "file_extension": ".py",
   "mimetype": "text/x-python",
   "name": "python",
   "nbconvert_exporter": "python",
   "pygments_lexer": "ipython3",
   "version": "3.6.6"
  }
 },
 "nbformat": 4,
 "nbformat_minor": 2
}
